{
 "cells": [
  {
   "cell_type": "code",
   "execution_count": null,
   "id": "3aa936b1-200d-4d13-9ebf-c5e4a1e104ad",
   "metadata": {},
   "outputs": [],
   "source": []
  },
  {
   "cell_type": "code",
   "execution_count": 20,
   "id": "d08eb348-8860-42b2-bb68-c18a05f67bff",
   "metadata": {
    "tags": []
   },
   "outputs": [],
   "source": [
    "use data/d_ipeds_fall_enrollment_directory2022, clear"
   ]
  },
  {
   "cell_type": "code",
   "execution_count": 11,
   "id": "8a7e9223-32fa-4acf-90e6-dc100fe35148",
   "metadata": {
    "tags": []
   },
   "outputs": [],
   "source": [
    "*This command installs the stata command as doc.\n",
    "*ssc install asdoc"
   ]
  },
  {
   "cell_type": "code",
   "execution_count": 21,
   "id": "658d29a0-157b-4646-a1c2-be9bb8a473c6",
   "metadata": {
    "tags": []
   },
   "outputs": [
    {
     "name": "stdout",
     "output_type": "stream",
     "text": [
      "Click to Open File:  tables/t1_variable_descriptions.doc\n"
     ]
    }
   ],
   "source": [
    "*This code runs the asdoc command which creates a varaible description table with all variables (?)\n",
    "asdoc des, replace title(Table 1: Variable Descriptions) ///\n",
    "    save(tables/t1_variable_descriptions)"
   ]
  },
  {
   "cell_type": "code",
   "execution_count": 22,
   "id": "55b41e04-6483-45a2-89f2-d617073e6ccc",
   "metadata": {
    "tags": []
   },
   "outputs": [],
   "source": [
    "*Using order I can change the order of the variables in the table.\n",
    "order unitid instnm sector"
   ]
  },
  {
   "cell_type": "code",
   "execution_count": 23,
   "id": "b1ecec7e-f636-4c2e-b707-a693c9d19d36",
   "metadata": {
    "tags": []
   },
   "outputs": [],
   "source": [
    "*This replaces the dataset with a variable that contains all variable names and the variable that contains all variable labels.\n",
    "describe, replace clear"
   ]
  },
  {
   "cell_type": "code",
   "execution_count": 24,
   "id": "2141246d-e94d-4084-b5fa-19e24c6cde3a",
   "metadata": {
    "tags": []
   },
   "outputs": [],
   "source": [
    "*Renames the name variable as variable and renames var label variable as description.\n",
    "rename name Variable\n",
    "rename varlab Description"
   ]
  },
  {
   "cell_type": "code",
   "execution_count": 25,
   "id": "82bdb681-582d-4d7b-a843-f678db4aac6c",
   "metadata": {
    "tags": []
   },
   "outputs": [
    {
     "name": "stdout",
     "output_type": "stream",
     "text": [
      "\n",
      "  +--------------------------------------------------+\n",
      "  |   Variable                           Description |\n",
      "  |--------------------------------------------------|\n",
      "  |     unitid   School Unique Identification Number |\n",
      "  |     instnm                      Institution Name |\n",
      "  |     sector                 Sector of Institution |\n",
      "  |     obereg                           BEA Regions |\n",
      "  |    ugoffer                Undergraduate Offering |\n",
      "  |    groffer                     Graduate Offering |\n",
      "  |    eftotlt                           Grand Total |\n",
      "  |    eftotlm                       Grand Total Men |\n",
      "  |    eftotlw                     Grand Total Women |\n",
      "  |    efhispt                        Hispanic Total |\n",
      "  |    efhispm                          Hispanic Men |\n",
      "  |    efhispw                        Hispanic Women |\n",
      "  |    efnralt                 US Non-Resident Total |\n",
      "  |    efnralm                   US Non-Resident Men |\n",
      "  |    efnralw                 US Non-Resident Women |\n",
      "  | pctefhispt                Hispanic Total Percent |\n",
      "  | pctefhispm                  Hispanic Men Percent |\n",
      "  | pctefhispw                Hispanic Women Percent |\n",
      "  | pctefnralt         US Non-Resident Total Percent |\n",
      "  | pctefnralm           US Non-Resident Men Percent |\n",
      "  | pctefnralw         US Non-Resident Women Percent |\n",
      "  +--------------------------------------------------+\n"
     ]
    }
   ],
   "source": [
    "*Noobs means don't say the number of the observation. (This command is more for visualization.)\n",
    "list Variable Description, noobs separator(0)"
   ]
  },
  {
   "cell_type": "code",
   "execution_count": null,
   "id": "c8f9e358-7fe6-48ee-9b90-c54ba3a287a3",
   "metadata": {},
   "outputs": [],
   "source": []
  }
 ],
 "metadata": {
  "kernelspec": {
   "display_name": "Stata (nbstata)",
   "language": "stata",
   "name": "nbstata"
  },
  "language_info": {
   "file_extension": ".do",
   "mimetype": "text/x-stata",
   "name": "stata",
   "version": "17"
  }
 },
 "nbformat": 4,
 "nbformat_minor": 5
}
