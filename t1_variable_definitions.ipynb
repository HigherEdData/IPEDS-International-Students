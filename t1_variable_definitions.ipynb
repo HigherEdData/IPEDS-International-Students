{
 "cells": [
  {
   "cell_type": "markdown",
   "id": "a2a4808f-27c0-4050-9994-337f48755dea",
   "metadata": {
    "tags": []
   },
   "source": [
    "# Table 1: Variable Definitions and Labeling\n",
    "\n",
    "### By Camellia Haghverdian"
   ]
  },
  {
   "cell_type": "code",
   "execution_count": 1,
   "id": "d08eb348-8860-42b2-bb68-c18a05f67bff",
   "metadata": {
    "tags": []
   },
   "outputs": [
    {
     "data": {
      "text/html": [
       "<style>div.jp-Notebook .datagrid-container {min-height: 448px; }</style>"
      ],
      "text/plain": [
       "<IPython.core.display.HTML object>"
      ]
     },
     "metadata": {},
     "output_type": "display_data"
    }
   ],
   "source": [
    "use data/d_ipeds_fall_enrollment_directory2022.dta, clear\n"
   ]
  },
  {
   "cell_type": "code",
   "execution_count": 2,
   "id": "8a7e9223-32fa-4acf-90e6-dc100fe35148",
   "metadata": {
    "tags": []
   },
   "outputs": [],
   "source": [
    "*This command installs the stata command as doc.\n",
    "*ssc install asdoc\n"
   ]
  },
  {
   "cell_type": "code",
   "execution_count": 3,
   "id": "658d29a0-157b-4646-a1c2-be9bb8a473c6",
   "metadata": {
    "tags": []
   },
   "outputs": [
    {
     "name": "stdout",
     "output_type": "stream",
     "text": [
      "Click to Open File:  tables/t1_variable_descriptions.doc\n"
     ]
    }
   ],
   "source": [
    "*This code runs the asdoc command which creates a varaible description table with all variables.\n",
    "asdoc des, replace title(Table 1: Variable Descriptions) ///\n",
    "    save(tables/t1_variable_descriptions)"
   ]
  },
  {
   "cell_type": "code",
   "execution_count": 4,
   "id": "55b41e04-6483-45a2-89f2-d617073e6ccc",
   "metadata": {
    "tags": []
   },
   "outputs": [],
   "source": [
    "*Using order I can change the order of the variables in the table.\n",
    "order unitid instnm sector\n"
   ]
  },
  {
   "cell_type": "code",
   "execution_count": 5,
   "id": "7a6ba3c4-4b78-41b3-9d49-21682e94c894",
   "metadata": {
    "tags": []
   },
   "outputs": [],
   "source": [
    "describe, replace clear"
   ]
  },
  {
   "cell_type": "code",
   "execution_count": 6,
   "id": "1f83f551-efa4-4589-a65a-e96d07807584",
   "metadata": {
    "tags": []
   },
   "outputs": [
    {
     "name": "stdout",
     "output_type": "stream",
     "text": [
      "position   name       type       isnumeric  format     vallab     varlab\n"
     ]
    }
   ],
   "source": [
    "ds"
   ]
  },
  {
   "cell_type": "code",
   "execution_count": 7,
   "id": "2141246d-e94d-4084-b5fa-19e24c6cde3a",
   "metadata": {
    "tags": []
   },
   "outputs": [],
   "source": [
    "*Renames the name variable as variable and renames var label variable as description (?????).\n",
    "rename name Variable\n",
    "rename varlab Description\n"
   ]
  },
  {
   "cell_type": "code",
   "execution_count": 8,
   "id": "82bdb681-582d-4d7b-a843-f678db4aac6c",
   "metadata": {
    "tags": []
   },
   "outputs": [
    {
     "name": "stdout",
     "output_type": "stream",
     "text": [
      "\n",
      "  +------------------------------------------------------------+\n",
      "  |             Variable                           Description |\n",
      "  |------------------------------------------------------------|\n",
      "  |               unitid   School Unique Identification Number |\n",
      "  |               instnm                      Institution Name |\n",
      "  |               sector                 Sector of Institution |\n",
      "  |               obereg                           BEA Regions |\n",
      "  |              ugoffer                Undergraduate Offering |\n",
      "  |              groffer                     Graduate Offering |\n",
      "  |              eftotlt                           Grand Total |\n",
      "  |              eftotlm                       Grand Total Men |\n",
      "  |              eftotlw                     Grand Total Women |\n",
      "  |              efhispt                        Hispanic Total |\n",
      "  |              efhispm                          Hispanic Men |\n",
      "  |              efhispw                        Hispanic Women |\n",
      "  |              efnralt                 US Non-Resident Total |\n",
      "  |              efnralm                   US Non-Resident Men |\n",
      "  |              efnralw                 US Non-Resident Women |\n",
      "  |           newengland                           New England |\n",
      "  |              mideast                              Mid East |\n",
      "  |           greatlakes                           Great Lakes |\n",
      "  |               plains                                Plains |\n",
      "  |            southeast                             Southeast |\n",
      "  |            southwest                             Southwest |\n",
      "  |       rockymountains                       Rocky Mountains |\n",
      "  |              farwest                              Far West |\n",
      "  | otherusjurisdictions                Other US Jurisdictions |\n",
      "  |           pctefhispt                Hispanic Total Percent |\n",
      "  |           pctefhispm                  Hispanic Men Percent |\n",
      "  |           pctefhispw                Hispanic Women Percent |\n",
      "  |           pctefnralt         US Non-Resident Total Percent |\n",
      "  |           pctefnralm           US Non-Resident Men Percent |\n",
      "  |           pctefnralw         US Non-Resident Women Percent |\n",
      "  +------------------------------------------------------------+\n"
     ]
    }
   ],
   "source": [
    "*Noobs means don't say the number of the observation. (This command is more for visualization.)\n",
    "list Variable Description, noobs separator(0)"
   ]
  },
  {
   "cell_type": "code",
   "execution_count": null,
   "id": "0e2f27d8-496c-4433-807f-406ad1169c05",
   "metadata": {},
   "outputs": [],
   "source": []
  }
 ],
 "metadata": {
  "kernelspec": {
   "display_name": "Stata (nbstata)",
   "language": "stata",
   "name": "nbstata"
  },
  "language_info": {
   "file_extension": ".do",
   "mimetype": "text/x-stata",
   "name": "stata",
   "version": "17"
  }
 },
 "nbformat": 4,
 "nbformat_minor": 5
}
