{
 "cells": [
  {
   "cell_type": "markdown",
   "id": "3054dbdd-30d0-481c-a3c1-fa901addc67f",
   "metadata": {},
   "source": [
    "## Codes for the Bar Chart Figure\n",
    "\n",
    "### Number of International Students in the Nine US Regions"
   ]
  },
  {
   "cell_type": "code",
   "execution_count": 65,
   "id": "69c2e1c6-9eb5-4100-8ab9-d90ed84d9786",
   "metadata": {
    "tags": []
   },
   "outputs": [],
   "source": [
    "use data/d_ipeds_fall_enrollment_directory2022.dta, clear"
   ]
  },
  {
   "cell_type": "code",
   "execution_count": 66,
   "id": "61bf979b-c572-4df8-8037-a52959f7655b",
   "metadata": {
    "tags": []
   },
   "outputs": [
    {
     "name": "stdout",
     "output_type": "stream",
     "text": [
      "unitid        eftotlt       efnralt       plains        pctefhispt\n",
      "instnm        eftotlm       efnralm       southeast     pctefhispm\n",
      "obereg        eftotlw       efnralw       southwest     pctefhispw\n",
      "sector        efhispt       newengland    rockymount~s  pctefnralt\n",
      "ugoffer       efhispm       mideast       farwest       pctefnralm\n",
      "groffer       efhispw       greatlakes    otherusjur~s  pctefnralw\n"
     ]
    }
   ],
   "source": [
    "ds"
   ]
  },
  {
   "cell_type": "code",
   "execution_count": 67,
   "id": "a0654355-9d9f-451f-8507-152ae538e181",
   "metadata": {
    "tags": []
   },
   "outputs": [
    {
     "name": "stdout",
     "output_type": "stream",
     "text": [
      "(6,256 missing values generated)\n",
      "(7 real changes made)\n",
      "(330 real changes made)\n",
      "(1,027 real changes made)\n",
      "(889 real changes made)\n",
      "(495 real changes made)\n",
      "(1,535 real changes made)\n",
      "(663 real changes made)\n",
      "(228 real changes made)\n",
      "(941 real changes made)\n",
      "(141 real changes made)\n"
     ]
    }
   ],
   "source": [
    "gen region=.\n",
    "\n",
    "replace region=1 if obereg==0\n",
    "replace region=1 if obereg==1\n",
    "replace region=2 if obereg==2\n",
    "replace region=3 if obereg==3\n",
    "replace region=4 if obereg==4\n",
    "replace region=5 if obereg==5\n",
    "replace region=6 if obereg==6\n",
    "replace region=7 if obereg==7\n",
    "replace region=8 if obereg==8\n",
    "replace region=9 if obereg==9\n",
    "\n",
    "label define region 1 \"New England\" 2 \"Mid East\" 3 \"Great Lakes\" 4 \"Plains\" 5 \"Southeast\" 6 \"Southwest\" ///\n",
    "7 \"Rocky Mountains\" 8 \"Far West\" 9 \"Other US Jurisdictions\"\n",
    "label values region region\n",
    "label var region \"US Regions\""
   ]
  },
  {
   "cell_type": "code",
   "execution_count": 68,
   "id": "091e55a4-364f-4f89-86e4-f7dc78b11c5f",
   "metadata": {
    "tags": []
   },
   "outputs": [
    {
     "name": "stdout",
     "output_type": "stream",
     "text": [
      "(note:  named style small not found in class graphsize, default attributes\n",
      "    used)\n",
      "(note:  named style 5 not found in class graphsize, default attributes used)\n",
      "(note:  named style small not found in class graphsize, default attributes\n",
      "    used)\n",
      "(note:  named style 5 not found in class graphsize, default attributes used)\n"
     ]
    },
    {
     "data": {
      "image/png": "[encoded data removed]",
      "text/plain": [
       "<IPython.core.display.Image object>"
      ]
     },
     "metadata": {},
     "output_type": "display_data"
    }
   ],
   "source": [
    "graph bar pctefnralt, over(region) asyvars ytitle(\"The Percent of International Students\", size(small)) ///\n",
    "  blabel(bar, format(%7.0fc)) legend(rows(2) position(1) ring(0)) scheme(538) ///\n",
    "  xsize(small) ysize(small)"
   ]
  },
  {
   "cell_type": "code",
   "execution_count": 69,
   "id": "ea1ded07-6927-4054-a280-68b319741fdd",
   "metadata": {
    "tags": []
   },
   "outputs": [
    {
     "name": "stdout",
     "output_type": "stream",
     "text": [
      "(file intl_students_region.gph not found)\n",
      "file intl_students_region.gph saved\n"
     ]
    }
   ],
   "source": [
    "graph save intl_students_region, replace"
   ]
  },
  {
   "cell_type": "code",
   "execution_count": 70,
   "id": "c61d6827-40e0-4705-8190-b38549ad9ad8",
   "metadata": {
    "tags": []
   },
   "outputs": [
    {
     "name": "stdout",
     "output_type": "stream",
     "text": [
      "file figures/intl_students_region.pdf saved as PDF format\n"
     ]
    }
   ],
   "source": [
    "graph export figures/intl_students_region.pdf, replace"
   ]
  }
 ],
 "metadata": {
  "kernelspec": {
   "display_name": "Stata (nbstata)",
   "language": "stata",
   "name": "nbstata"
  },
  "language_info": {
   "file_extension": ".do",
   "mimetype": "text/x-stata",
   "name": "stata",
   "version": "17"
  }
 },
 "nbformat": 4,
 "nbformat_minor": 5
}
