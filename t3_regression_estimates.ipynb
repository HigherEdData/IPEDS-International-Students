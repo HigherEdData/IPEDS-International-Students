{
 "cells": [
  {
   "cell_type": "markdown",
   "id": "75b111ec-1f28-4a4e-8d93-20893e25ce39",
   "metadata": {},
   "source": [
    "# Table 3: Regression Estimates\n",
    "\n",
    "### By Camellia Haghverdian"
   ]
  },
  {
   "cell_type": "code",
   "execution_count": 7,
   "id": "8a8b207a-d42b-41cb-8727-189389e8095b",
   "metadata": {
    "tags": []
   },
   "outputs": [],
   "source": [
    "use data/d_ipeds_fall_enrollment_directory2022, clear"
   ]
  },
  {
   "cell_type": "code",
   "execution_count": 8,
   "id": "237e8093-5200-4453-9e5d-c9d0f3e7dd7d",
   "metadata": {
    "tags": []
   },
   "outputs": [
    {
     "name": "stdout",
     "output_type": "stream",
     "text": [
      "unitid        eftotlt       efnralt       plains        pctefhispt\n",
      "instnm        eftotlm       efnralm       southeast     pctefhispm\n",
      "obereg        eftotlw       efnralw       southwest     pctefhispw\n",
      "sector        efhispt       newengland    rockymount~s  pctefnralt\n",
      "ugoffer       efhispm       mideast       farwest       pctefnralm\n",
      "groffer       efhispw       greatlakes    otherusjur~s  pctefnralw\n"
     ]
    }
   ],
   "source": [
    "ds"
   ]
  },
  {
   "cell_type": "code",
   "execution_count": 9,
   "id": "dce82eba-3e7e-4de9-a8e7-524ad06bf235",
   "metadata": {},
   "outputs": [],
   "source": [
    "label define obereg 1 \"New England\" 2 \"Mid East\" 3 \"Great Lakes\" 4 \"Plains\" 5 \"Southeast\" 6 \"Southwest\" ///\n",
    "7 \"Rocky Mountains\" 8 \"Far West\" 9 \"Other US Jurisdictions\"\n",
    "label values obereg obereg"
   ]
  },
  {
   "cell_type": "code",
   "execution_count": 10,
   "id": "61913cd7-4007-4e7e-95f3-9a1f87b5697f",
   "metadata": {
    "tags": []
   },
   "outputs": [
    {
     "name": "stdout",
     "output_type": "stream",
     "text": [
      "note: pctefhispt omitted because of collinearity.\n",
      "\n",
      "      Source |       SS           df       MS      Number of obs   =     5,978\n",
      "-------------+----------------------------------   F(19, 5958)     =      2.39\n",
      "       Model |  27981030.8        19  1472685.83   Prob > F        =    0.0006\n",
      "    Residual |  3.6764e+09     5,958   617052.31   R-squared       =    0.0076\n",
      "-------------+----------------------------------   Adj R-squared   =    0.0044\n",
      "       Total |  3.7044e+09     5,977  619772.243   Root MSE        =    785.53\n",
      "\n",
      "------------------------------------------------------------------------------\n",
      "     efnralt | Coefficient  Std. err.      t    P>|t|     [95% conf. interval]\n",
      "-------------+----------------------------------------------------------------\n",
      "  pctefhispt |   8.346424   107.9922     0.08   0.938    -203.3575    220.0503\n",
      "             |\n",
      "      obereg |\n",
      "New England  |   458.6181   1161.576     0.39   0.693    -1818.491    2735.728\n",
      "   Mid East  |   271.6431   1160.037     0.23   0.815    -2002.449    2545.735\n",
      "Great Lakes  |   213.2193   1160.021     0.18   0.854    -2060.843    2487.281\n",
      "     Plains  |   180.0427   1160.848     0.16   0.877     -2095.64    2455.725\n",
      "  Southeast  |   140.8047   1159.768     0.12   0.903    -2132.761    2414.371\n",
      "  Southwest  |    253.346   1160.762     0.22   0.827    -2022.168     2528.86\n",
      "Rocky Mou..  |   182.4828   1163.117     0.16   0.875    -2097.648    2462.613\n",
      "   Far West  |   317.6249    1160.44     0.27   0.784    -1957.257    2592.507\n",
      "Other US ..  |   72.30481   1188.602     0.06   0.951    -2257.785    2402.395\n",
      "             |\n",
      "  pctefhispt |          0  (omitted)\n",
      "             |\n",
      "      obereg#|\n",
      "c.pctefhispt |\n",
      "New England  |  -17.63142   108.0599    -0.16   0.870    -229.4679    194.2051\n",
      "   Mid East  |  -9.719583   108.0083    -0.09   0.928    -221.4549    202.0158\n",
      "Great Lakes  |  -9.219101   108.0148    -0.09   0.932    -220.9673    202.5291\n",
      "     Plains  |  -10.46378   108.1136    -0.10   0.923    -222.4056     201.478\n",
      "  Southeast  |  -7.517239   107.9986    -0.07   0.945    -219.2336    204.1992\n",
      "  Southwest  |  -9.971765   107.9997    -0.09   0.926    -221.6904    201.7469\n",
      "Rocky Mou..  |  -10.55457   108.0723    -0.10   0.922    -222.4155    201.3063\n",
      "   Far West  |  -11.87805   107.9983    -0.11   0.912    -223.5938    199.8377\n",
      "Other US ..  |  -8.727911   108.0272    -0.08   0.936    -220.5004    203.0446\n",
      "             |\n",
      "       _cons |  -32.34128   1159.501    -0.03   0.978    -2305.383    2240.701\n",
      "------------------------------------------------------------------------------\n"
     ]
    }
   ],
   "source": [
    "reg efnralt pctefhispt i.obereg##c.pctefhispt"
   ]
  },
  {
   "cell_type": "code",
   "execution_count": null,
   "id": "b94a88e5-9648-4be9-a0a8-c66d8d9d4449",
   "metadata": {},
   "outputs": [],
   "source": []
  }
 ],
 "metadata": {
  "kernelspec": {
   "display_name": "Stata (nbstata)",
   "language": "stata",
   "name": "nbstata"
  },
  "language_info": {
   "file_extension": ".do",
   "mimetype": "text/x-stata",
   "name": "stata",
   "version": "17"
  }
 },
 "nbformat": 4,
 "nbformat_minor": 5
}
