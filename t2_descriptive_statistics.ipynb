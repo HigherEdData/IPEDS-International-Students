{
 "cells": [
  {
   "cell_type": "markdown",
   "id": "165b82a9-bc8f-4e98-aa0a-8cd87d8449d8",
   "metadata": {},
   "source": [
    "# Table 2: Descriptive Statistics\n",
    "\n",
    "## IPEDS International Students Data Exploration\n",
    "\n",
    "### By Camellia Haghverdian"
   ]
  },
  {
   "cell_type": "code",
   "execution_count": 20,
   "id": "dd80fd6c-d37a-4c6b-adca-f8c216212e2b",
   "metadata": {
    "tags": []
   },
   "outputs": [],
   "source": [
    "use data/d_ipeds_fall_enrollment_directory2022, clear"
   ]
  },
  {
   "cell_type": "code",
   "execution_count": 21,
   "id": "25c515e2-249b-403b-82ac-b7182fce335a",
   "metadata": {
    "tags": []
   },
   "outputs": [
    {
     "name": "stdout",
     "output_type": "stream",
     "text": [
      "unitid        eftotlt       efnralt       plains        pctefhispt\n",
      "instnm        eftotlm       efnralm       southeast     pctefhispm\n",
      "obereg        eftotlw       efnralw       southwest     pctefhispw\n",
      "sector        efhispt       newengland    rockymount~s  pctefnralt\n",
      "ugoffer       efhispm       mideast       farwest       pctefnralm\n",
      "groffer       efhispw       greatlakes    otherusjur~s  pctefnralw\n"
     ]
    }
   ],
   "source": [
    "ds"
   ]
  },
  {
   "cell_type": "code",
   "execution_count": 23,
   "id": "f5ee2ea2-be1e-4133-b928-7f9f954f2343",
   "metadata": {
    "tags": []
   },
   "outputs": [
    {
     "name": "stdout",
     "output_type": "stream",
     "text": [
      "(est1 stored)\n",
      "\n",
      "---------------------------------\n",
      "                              (1)\n",
      "                                 \n",
      "                          mean/sd\n",
      "---------------------------------\n",
      "New England                  0.05\n",
      "                           (0.22)\n",
      "Great Lakes                  0.14\n",
      "                           (0.35)\n",
      "Plains                       0.08\n",
      "                           (0.27)\n",
      "Southeast                    0.25\n",
      "                           (0.43)\n",
      "Southwest                    0.11\n",
      "                           (0.31)\n",
      "Rocky Mountains              0.04\n",
      "                           (0.19)\n",
      "Far West                     0.15\n",
      "                           (0.36)\n",
      "Other US Jurisdict~s         0.02\n",
      "                           (0.15)\n",
      "Undergraduate Offe~g         1.05\n",
      "                           (0.21)\n",
      "Grand Total              3,212.73\n",
      "                       (7,799.61)\n",
      "Hispanic Total             649.52\n",
      "                       (2,102.48)\n",
      "Hispanic Women             390.12\n",
      "                       (1,253.43)\n",
      "US Non-Resident Men         88.55\n",
      "                         (446.20)\n",
      "Sector of Institut~n         4.51\n",
      "                           (2.96)\n",
      "Graduate Offering            1.65\n",
      "                           (0.48)\n",
      "Hispanic Men               259.39\n",
      "                         (864.86)\n",
      "US Non-Resident To~l       162.46\n",
      "                         (787.26)\n",
      "US Non-Resident Wo~n        73.90\n",
      "                         (352.00)\n",
      "---------------------------------\n",
      "N                           5,978\n",
      "---------------------------------\n"
     ]
    }
   ],
   "source": [
    "*Creating standard deviation and mean tables\n",
    "est clear\n",
    "\n",
    "eststo: quietly estpost summarize newengland greatlakes plains southeast southwest rockymountains farwest otherusjurisd~s ugoffer eftotlt efhispt efhispw efnralm sector groffer efhispm efnralt efnralw, listwise\n",
    "\n",
    "esttab, cells(\"mean(fmt(%9.2fc))\" sd(par)) label stats(N, fmt(%9.0fc))"
   ]
  },
  {
   "cell_type": "code",
   "execution_count": 24,
   "id": "835f0ed2-7479-44d4-b883-3d9b219ea288",
   "metadata": {
    "tags": []
   },
   "outputs": [],
   "source": [
    "* mkdir tables"
   ]
  },
  {
   "cell_type": "code",
   "execution_count": 25,
   "id": "276c0124-33fa-44a7-aaa3-580fb9ca682e",
   "metadata": {
    "tags": []
   },
   "outputs": [],
   "source": [
    "*This command takes the table made above and pastes it in a word doc.\n",
    "qui esttab using tables/t2_descriptive_stats.rtf, ///\n",
    "cells(\"mean(fmt(2))\" sd(par)) label replace ///\n",
    "title(Table 2: Descriptive Statistics)"
   ]
  },
  {
   "cell_type": "code",
   "execution_count": 26,
   "id": "6421bb78-3ae6-4546-a4f2-c7f6b8992511",
   "metadata": {
    "tags": []
   },
   "outputs": [
    {
     "name": "stdout",
     "output_type": "stream",
     "text": [
      "unitid        eftotlt       efnralt       plains        pctefhispt\n",
      "instnm        eftotlm       efnralm       southeast     pctefhispm\n",
      "obereg        eftotlw       efnralw       southwest     pctefhispw\n",
      "sector        efhispt       newengland    rockymount~s  pctefnralt\n",
      "ugoffer       efhispm       mideast       farwest       pctefnralm\n",
      "groffer       efhispw       greatlakes    otherusjur~s  pctefnralw\n"
     ]
    }
   ],
   "source": [
    "ds"
   ]
  }
 ],
 "metadata": {
  "kernelspec": {
   "display_name": "Stata (nbstata)",
   "language": "stata",
   "name": "nbstata"
  },
  "language_info": {
   "file_extension": ".do",
   "mimetype": "text/x-stata",
   "name": "stata",
   "version": "17"
  }
 },
 "nbformat": 4,
 "nbformat_minor": 5
}
